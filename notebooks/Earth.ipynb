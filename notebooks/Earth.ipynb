{
 "cells": [
  {
   "cell_type": "markdown",
   "metadata": {},
   "source": [
    "## Render the Earth\n",
    "\n"
   ]
  },
  {
   "cell_type": "code",
   "execution_count": 18,
   "metadata": {},
   "outputs": [
    {
     "name": "stdout",
     "output_type": "stream",
     "text": [
      "/home/raustin9/src/Sunrise-Demo\n"
     ]
    },
    {
     "name": "stderr",
     "output_type": "stream",
     "text": [
      "/home/raustin9/.local/lib/python3.10/site-packages/IPython/core/magics/osm.py:393: UserWarning: using bookmarks requires you to install the `pickleshare` library.\n",
      "  bkms = self.shell.db.get('bookmarks', {})\n",
      "/home/raustin9/.local/lib/python3.10/site-packages/IPython/core/magics/osm.py:417: UserWarning: using dhist requires you to install the `pickleshare` library.\n",
      "  self.shell.db['dhist'] = compress_dhist(dhist)[-100:]\n"
     ]
    }
   ],
   "source": [
    "%cd ~/src/Sunrise-Demo/\n",
    "import requests\n",
    "import shutil\n",
    "from __future__ import annotations \n",
    "try:\n",
    "    from mediocreatbest import auto, run\n",
    "except ImportError:\n",
    "    %pip install --quiet --upgrade pip\n",
    "    %pip install --upgrade --force-reinstall \\\n",
    "        mediocreatbest@git+https://gist.github.com/player1537/3457b026ed6ef6696d758517f55a58df.git\n",
    "from mediocreatbest import auto, run"
   ]
  },
  {
   "cell_type": "code",
   "execution_count": 3,
   "metadata": {},
   "outputs": [],
   "source": [
    "Degree = auto.typing.NewType('Degree', float)\n",
    "Radian = auto.typing.NewType('Radian', float)\n",
    "Meter = auto.typing.NewType('Meter', float)\n",
    "Kilometer = auto.typing.NewType('Kilometer', float)"
   ]
  },
  {
   "cell_type": "code",
   "execution_count": 4,
   "metadata": {},
   "outputs": [],
   "source": [
    "@run(once=True)\n",
    "def cache():\n",
    "    path = auto.pathlib.Path.cwd() / 'tmp' / 'Sunrise.shelve'\n",
    "    return auto.shelve.open(str(path), 'c')"
   ]
  },
  {
   "cell_type": "code",
   "execution_count": 5,
   "metadata": {},
   "outputs": [],
   "source": [
    "@run\n",
    "def fetch(cache, /):\n",
    "    def fetch(url: str, *, tqdm=None) -> bytes:\n",
    "        key = url\n",
    "        if key not in cache:\n",
    "            if tqdm is not None:\n",
    "                tqdm.set_description(f'Cache Miss: {url}')\n",
    "\n",
    "            with auto.requests.get(url) as r:\n",
    "                r.raise_for_status()\n",
    "                cache[key] = r.content\n",
    "            \n",
    "            auto.time.sleep(1)\n",
    "        \n",
    "        else:\n",
    "            if tqdm is not None:\n",
    "                tqdm.set_description('Cache Hit: {url}')\n",
    "        \n",
    "        return cache[key]\n",
    "\n",
    "    return fetch"
   ]
  },
  {
   "cell_type": "code",
   "execution_count": 6,
   "metadata": {},
   "outputs": [],
   "source": [
    "@auto.dataclasses.dataclass(eq=True, order=True, frozen=True)\n",
    "class Coord:\n",
    "    \"\"\"Tile image coordinates for mapbox/etc services\"\"\"\n",
    "    z: int\n",
    "    x: int\n",
    "    y: int\n",
    "\n",
    "    @property\n",
    "    def nw(self) -> Location:\n",
    "        \"\"\"North-West lat/lng of current tile\"\"\"\n",
    "        lat, lng = tile_coordinates_to_latlng(\n",
    "            z=self.z,\n",
    "            x=self.x,\n",
    "            y=self.y,\n",
    "        )\n",
    "        return Location(lat=lat, lng=lng)\n",
    "\n",
    "    @property\n",
    "    def se(self) -> Location:\n",
    "        \"\"\"South-East lat/lng of current tile\"\"\"\n",
    "        lat, lng = tile_coordinates_to_latlng(\n",
    "            z=self.z,\n",
    "            x=1+self.x,\n",
    "            y=1+self.y,\n",
    "        )\n",
    "        return Location(lat=lat, lng=lng)"
   ]
  },
  {
   "cell_type": "code",
   "execution_count": 7,
   "metadata": {},
   "outputs": [],
   "source": [
    "@auto.dataclasses.dataclass(eq=True, frozen=True)\n",
    "class Domain:\n",
    "    \"\"\"Lower (inclusive) and upper (inclusive) bounds of latitude/longitude\"\"\"\n",
    "    lo: Coord\n",
    "    hi: Coord\n",
    "        \n",
    "    @property\n",
    "    def coords(self) -> List[Coord]:\n",
    "        \"\"\"All coordinates within lower/upper bounds\"\"\"\n",
    "        coords = []\n",
    "        for z, x, y in auto.itertools.product(\n",
    "            range(self.lo.z, 1+self.hi.z),\n",
    "            range(self.lo.x, 1+self.hi.x),\n",
    "            range(self.lo.y, 1+self.hi.y),\n",
    "        ):\n",
    "            coords.append(Coord(\n",
    "                z=z,\n",
    "                x=x,\n",
    "                y=y,\n",
    "            ))\n",
    "        \n",
    "        return coords"
   ]
  },
  {
   "cell_type": "code",
   "execution_count": 8,
   "metadata": {},
   "outputs": [],
   "source": [
    "@auto.dataclasses.dataclass(eq=True, order=True, frozen=True)\n",
    "class Location:\n",
    "    \"\"\"Geographical latitude/longitude\"\"\"\n",
    "    lat: Degree\n",
    "    lng: Degree\n",
    "    alt: Optional[Meter] = auto.dataclasses.field(default=None)"
   ]
  },
  {
   "cell_type": "code",
   "execution_count": 9,
   "metadata": {},
   "outputs": [],
   "source": [
    "@auto.dataclasses.dataclass(eq=True, order=True, frozen=True)\n",
    "class Point:\n",
    "    x: Kilometer\n",
    "    y: Kilometer\n",
    "    z: Kilometer"
   ]
  },
  {
   "cell_type": "code",
   "execution_count": 10,
   "metadata": {},
   "outputs": [],
   "source": [
    "# @dispatch\n",
    "@auto.dataclasses.dataclass(eq=True, order=True, frozen=True)\n",
    "class Tixel:\n",
    "    y: int\n",
    "    x: int\n",
    "        \n",
    "    z: ClassVar[int] = 23\n",
    "        \n",
    "    @property\n",
    "    def location(self) -> Location:\n",
    "        \"\"\"Center lat/lng of current tixel\"\"\"\n",
    "        lat, lng = tile_coordinates_to_latlng(\n",
    "            z=1+self.z,\n",
    "            x=1+self.x,\n",
    "            y=1+self.y,\n",
    "        )\n",
    "        return Location(lat=lat, lng=lng)\n",
    "\n",
    "# @Tixel.register\n",
    "# def __tixel_from_coord(coord: Coord, /, *, res: int):\n",
    "#     dz = int(auto.math.log2(Tixel.z - coord.z))"
   ]
  },
  {
   "cell_type": "code",
   "execution_count": 11,
   "metadata": {},
   "outputs": [],
   "source": [
    "@auto.dataclasses.dataclass\n",
    "class TileURL:\n",
    "    scheme: str\n",
    "    netloc: str\n",
    "    prefix: str\n",
    "    z: int\n",
    "    x: int\n",
    "    y: int\n",
    "    suffix: str\n",
    "    query: Dict[str, str]\n",
    "    fragment: str\n",
    "\n",
    "    @classmethod\n",
    "    @auto.mediocreatbest.doctest\n",
    "    def decode(cls, url: str) -> Self:\n",
    "        scheme, netloc, path, query, fragment = auto.urllib.parse.urlsplit(\n",
    "            url,\n",
    "        )\n",
    "\n",
    "        path = path.split('/')\n",
    "        *prefix, z, x, suffix, = path\n",
    "        assert (match := auto.re.match(r'^(\\d+)(.*)$', suffix)) is not None, \\\n",
    "            f'{suffix = !r}'\n",
    "        y, suffix = match.groups()\n",
    "\n",
    "        z, x, y = map(int, (z, x, y))\n",
    "        query = auto.urllib.parse.parse_qsl(\n",
    "            query\n",
    "        )\n",
    "\n",
    "        return cls(\n",
    "            scheme=scheme,\n",
    "            netloc=netloc,\n",
    "            prefix=prefix,\n",
    "            z=z,\n",
    "            x=x,\n",
    "            y=y,\n",
    "            suffix=suffix,\n",
    "            query=query,\n",
    "            fragment=fragment\n",
    "        )\n",
    "\n",
    "    def encode(self) -> str:\n",
    "        query = auto.urllib.parse.urlencode(\n",
    "            self.query,\n",
    "            doseq=True,\n",
    "        )\n",
    "\n",
    "        z, x, y = map(str, (self.z, self.x, self.y))\n",
    "\n",
    "        path = '/'.join([\n",
    "            *self.prefix,\n",
    "            z,\n",
    "            x,\n",
    "            y+self.suffix\n",
    "        ])\n",
    "\n",
    "        return auto.urllib.parse.urlunsplit((\n",
    "            self.scheme,\n",
    "            self.netloc,\n",
    "            path,\n",
    "            query,\n",
    "            self.fragment,\n",
    "        ))\n",
    "        \n"
   ]
  },
  {
   "cell_type": "code",
   "execution_count": 20,
   "metadata": {},
   "outputs": [
    {
     "name": "stdout",
     "output_type": "stream",
     "text": [
      "https://server.arcgisonline.com/ArcGIS/rest/services/World_Imagery/MapServer/tile/0/0/0\n"
     ]
    }
   ],
   "source": [
    "@run(scope='background')\n",
    "def request():\n",
    "    from bs4 import BeautifulSoup\n",
    "\n",
    "    soup = BeautifulSoup(r'''\n",
    "        <img alt=\"\" role=\"presnetation\" src=\"https://server.arcgisonline.com/ArcGIS/rest/services/World_Imagery/MapServer/tile/0/0/0\" class=\"leaflet-tile leaflet-tile-loaded\" style=\"width: 256px; height: 256px; transform: translate3d(439px, -19px, 0px); opacity: 1;\">\n",
    "    ''', 'html.parser')\n",
    "\n",
    "    urls = []\n",
    "    for img in soup('img'):\n",
    "        print(img['src'])"
   ]
  },
  {
   "cell_type": "code",
   "execution_count": null,
   "metadata": {},
   "outputs": [],
   "source": [
    "@auto.dataclasses.dataclass(eq=True, frozen=True)\n",
    "class Tile:\n",
    "    coord: Coord\n",
    "    url: str = auto.dataclasses.field(repr=False)\n",
    "    image: bytes = auto.dataclasses.field(repr=False)\n",
    "\n",
    "@run(scope='background', after=lambda x: print(len(x)))\n",
    "def tiles(domain, fetch, /):\n",
    "    def make_url(coord: Coord, /, *, url=TileURL.decode(\n",
    "            r\"\"\"\"\"\"\n",
    "    ))"
   ]
  },
  {
   "cell_type": "code",
   "execution_count": null,
   "metadata": {},
   "outputs": [],
   "source": [
    "@run(scope='elevation', after=print)\n",
    "def domain():\n",
    "    return Domain(\n",
    "        lo=Coord(z=11, x=546-1, y=805-1),\n",
    "        hi=Coord(z=11, x=555+1, y=808-1),\n",
    "    )\n",
    "@run(scope='elevation')\n",
    "def tiles(domain, fetch, /):\n",
    "    def make_url(coord: Coord, /, *, url=TileURL.decode(\n",
    "        r\"\"\"https://api.mapbox.com/v4/mapbox.terrain-rgb/14/3826/6127@2x.pngraw?access_token=pk.eyJ1IjoidGhvYnNvbjIiLCJhIjoiY2oxZmdqbnQzMDBpbjJxczR6dWoyemUxNiJ9.SEBHSdHLP_lZGD43r-_IDQ\"\"\"\n",
    "    ))"
   ]
  },
  {
   "cell_type": "code",
   "execution_count": 19,
   "metadata": {},
   "outputs": [],
   "source": [
    "@run(scope='background')\n",
    "def get_tiles():\n",
    "    path = 'tmp/TESTIMG.png'\n",
    "    r = requests.get('https://server.arcgisonline.com/ArcGIS/rest/services/World_Imagery/MapServer/tile/0/0/0')\n",
    "    if r.status_code == 200:\n",
    "        with open(path, 'wb') as f:\n",
    "            for chunk in r:\n",
    "                f.write(chunk)\n"
   ]
  }
 ],
 "metadata": {
  "kernelspec": {
   "display_name": "Python 3",
   "language": "python",
   "name": "python3"
  },
  "language_info": {
   "codemirror_mode": {
    "name": "ipython",
    "version": 3
   },
   "file_extension": ".py",
   "mimetype": "text/x-python",
   "name": "python",
   "nbconvert_exporter": "python",
   "pygments_lexer": "ipython3",
   "version": "3.10.12"
  }
 },
 "nbformat": 4,
 "nbformat_minor": 2
}
