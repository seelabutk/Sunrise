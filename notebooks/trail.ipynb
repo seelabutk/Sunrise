{
 "cells": [
  {
   "cell_type": "code",
   "execution_count": null,
   "metadata": {},
   "outputs": [],
   "source": [
    "%cd ~/src/Sunrise-Demo-Dev/\n",
    "from __future__ import annotations\n",
    "try:\n",
    "    from mediocreatbest import auto, run\n",
    "except ImportError:\n",
    "    %pip install --quiet --upgrade pip\n",
    "    %pip install --upgrade --force-reinstall \\\n",
    "        mediocreatbest@git+https://gist.github.com/player1537/3457b026ed6ef6696d758517f55a58df.git\n",
    "from mediocreatbest import auto, run\n",
    "\n",
    "%pip install gpxpy\n",
    "import gpxpy\n",
    "import gpxpy.gpx"
   ]
  },
  {
   "cell_type": "code",
   "execution_count": null,
   "metadata": {},
   "outputs": [],
   "source": [
    "@run(once=True)\n",
    "def cache():\n",
    "    path = auto.pathlib.Path.cwd() / 'tmp' / 'elevation.shelve'\n",
    "    return auto.shelve.open(str(path), 'c')"
   ]
  },
  {
   "cell_type": "code",
   "execution_count": null,
   "metadata": {},
   "outputs": [],
   "source": [
    "@run\n",
    "def fetch(cache, /):\n",
    "    def fetch(url: str, *, tqdm=None) -> bytes:\n",
    "        key = url\n",
    "        if key not in cache:\n",
    "            if tqdm is not None:\n",
    "                tqdm.set_description(f'Cache Miss: {url}')\n",
    "\n",
    "            with auto.requests.get(url) as r:\n",
    "                r.raise_for_status()\n",
    "                cache[key] = r.content\n",
    "            \n",
    "            auto.time.sleep(1)\n",
    "        \n",
    "        else:\n",
    "            if tqdm is not None:\n",
    "                tqdm.set_description(f'Cache Hit: {url}')\n",
    "        \n",
    "        return cache[key]\n",
    "\n",
    "    return fetch"
   ]
  },
  {
   "cell_type": "code",
   "execution_count": null,
   "metadata": {},
   "outputs": [],
   "source": [
    "import requests\n",
    "import json\n",
    "\n",
    "session = requests.Session()\n",
    "\n",
    "class Coordinate:\n",
    "    lat: int\n",
    "    lng: int\n",
    "    alt: int\n",
    "\n",
    "@run\n",
    "def getCoords(fetch, /):\n",
    "    with open('trail.gpx') as f:\n",
    "        gpx = gpxpy.parse(f)\n",
    "        print(gpx)\n",
    "\n",
    "        coords = []\n",
    "\n",
    "        for waypoint in gpx.waypoints:\n",
    "            print(f'P: {waypoint.latitude}, {waypoint.longitude}')\n",
    "\n",
    "        for track in gpx.tracks:\n",
    "            print(f'Number of Segments: {len(track.segments)}')\n",
    "            for segment in track.segments:\n",
    "                print(f'Number of Points: {len(segment.points)}')\n",
    "                for point in segment.points:\n",
    "                    lat = point.latitude\n",
    "                    lng = point.longitude\n",
    "\n",
    "                    url = f'https://api.open-meteo.com/v1/elevation?latitude={lat}&longitude={lng}'\n",
    "                    alt = auto.json.loads(fetch(url))['elevation'][0]\n",
    "\n",
    "                    coords.append(\n",
    "                        {\n",
    "                            \"lat\": lat,\n",
    "                            \"lng\": lng,\n",
    "                            \"alt\": alt\n",
    "                        }\n",
    "                    )\n",
    "                    print(f'{lat}, {lng}, {alt}')\n",
    "            \n",
    "            with open('trail.json', 'w') as out:\n",
    "                json.dump(coords, out, indent=4)\n",
    "                "
   ]
  }
 ],
 "metadata": {
  "kernelspec": {
   "display_name": "Python 3",
   "language": "python",
   "name": "python3"
  },
  "language_info": {
   "codemirror_mode": {
    "name": "ipython",
    "version": 3
   },
   "file_extension": ".py",
   "mimetype": "text/x-python",
   "name": "python",
   "nbconvert_exporter": "python",
   "pygments_lexer": "ipython3",
   "version": "3.10.12"
  }
 },
 "nbformat": 4,
 "nbformat_minor": 2
}
