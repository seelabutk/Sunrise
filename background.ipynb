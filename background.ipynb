{
 "cells": [
  {
   "cell_type": "code",
   "execution_count": null,
   "metadata": {},
   "outputs": [],
   "source": [
    "# %cd ~/src/Sunrise-Demo/\n",
    "from __future__ import annotations\n",
    "try:\n",
    "    from mediocreatbest import auto, run\n",
    "except ImportError:\n",
    "    %pip install --quiet --upgrade pip\n",
    "    %pip install --upgrade --force-reinstall \\\n",
    "        mediocreatbest@git+https://gist.github.com/player1537/3457b026ed6ef6696d758517f55a58df.git\n",
    "from mediocreatbest import auto, run"
   ]
  },
  {
   "cell_type": "code",
   "execution_count": null,
   "metadata": {
    "tags": [
     "parameters"
    ]
   },
   "outputs": [],
   "source": [
    "SPECIES = \"0000143\"\n"
   ]
  },
  {
   "cell_type": "markdown",
   "metadata": {},
   "source": [
    "## Setup"
   ]
  },
  {
   "cell_type": "code",
   "execution_count": null,
   "metadata": {},
   "outputs": [],
   "source": [
    "%%scope\n",
    "def string_function(arr):\n",
    "    name = arr.__class__.__name__\n",
    "    if arr.size < 1024:\n",
    "        values = auto.numpy.array_repr(auto.numpy.ravel(arr))\n",
    "    else:\n",
    "        values = '...'\n",
    "        \n",
    "    shape = auto.numpy.shape(arr)\n",
    "    dtype = arr.dtype\n",
    "    return f'{name}({values}, {shape=!r}, {dtype=!r})'\n",
    "auto.numpy.set_string_function(string_function, repr=False)\n",
    "auto.numpy.set_string_function(string_function, repr=True)\n",
    "\n",
    "auto.numpy.set_printoptions(\n",
    "    threshold=4,\n",
    "    edgeitems=0,\n",
    ")"
   ]
  },
  {
   "cell_type": "markdown",
   "metadata": {},
   "source": [
    "### Typing"
   ]
  },
  {
   "cell_type": "code",
   "execution_count": null,
   "metadata": {},
   "outputs": [],
   "source": [
    "Degree = auto.typing.NewType('Degree', float)\n",
    "Radian = auto.typing.NewType('Radian', float)\n",
    "Meter = auto.typing.NewType('Meter', float)\n",
    "Kilometer = auto.typing.NewType('Kilometer', float)"
   ]
  },
  {
   "cell_type": "markdown",
   "metadata": {},
   "source": [
    "## Location (lat, lng, alt) to spatial (x, y, z)"
   ]
  },
  {
   "cell_type": "code",
   "execution_count": null,
   "metadata": {},
   "outputs": [],
   "source": [
    "def convert_location_to_spatial(\n",
    "    *,\n",
    "    lat: Degree,\n",
    "    lng: Degree,\n",
    "    alt: Meter,\n",
    "    math=auto.math,\n",
    ") -> Tuple[Meter, Meter, Meter]:\n",
    "    # Thanks https://gis.stackexchange.com/a/4148\n",
    "    \n",
    "    #> Note that \"Lat/Lon/Alt\" is just another name for spherical coordinates, and \n",
    "    #> phi/theta/rho are just another name for latitude, longitude, and altitude.\n",
    "    #> :) (A minor difference: altitude is usually measured from the surface of the \n",
    "    #> sphere; rho is measured from the center -- to convert, just add/subtract the \n",
    "    #> radius of the sphere.)\n",
    "    phi: Radian = math.radians(lat)\n",
    "    theta: Radian = math.radians(lng)\n",
    "    \n",
    "    # Thanks https://en.wikipedia.org/wiki/Earth_radius\n",
    "    #> A globally-average value is usually considered to be 6,371 kilometres (3,959 mi)\n",
    "    rho: Meter = 6_371_000 + alt\n",
    "    \n",
    "    #> x = math.cos(phi) * math.cos(theta) * rho\n",
    "    x: Meter = math.cos(phi) * math.cos(theta) * rho\n",
    "    \n",
    "    #> y = math.cos(phi) * math.sin(theta) * rho\n",
    "    y: Meter = math.cos(phi) * math.sin(theta) * rho\n",
    "\n",
    "    #> z = math.sin(phi) * rho # z is 'up'\n",
    "    z: Meter = math.sin(phi) * rho\n",
    "    \n",
    "    #> (Note there's some slightly arbitrary choices here in what each axis means...\n",
    "    #> you might want 'y' to point at the north pole instead of 'z', for example.)\n",
    "    \n",
    "    # I do :)\n",
    "    y, z = z, y\n",
    "    \n",
    "    return x, y, z"
   ]
  },
  {
   "cell_type": "code",
   "execution_count": null,
   "metadata": {},
   "outputs": [],
   "source": [
    "@auto.mediocreatbest.doctest\n",
    "def convert_tile_coordinates_to_latlng(\n",
    "    *,\n",
    "    z: int,\n",
    "    x: int,\n",
    "    y: int,\n",
    "    math=auto.numpy,\n",
    "    return_google_maps_url: bool=False,\n",
    ") -> Tuple[Degree, Degree]:\n",
    "    # r\"\"\"\n",
    "\n",
    "    # >>> convert_tile_coordinates_to_latlng(z=15, x=8739, y=12925, return_google_maps_url=True)\n",
    "    # 'https://www.google.com/maps/@35.48751102385376,-83.990478515625,15.79z?entry=ttu'\n",
    "\n",
    "    # \"\"\"\n",
    "    \n",
    "    # Thanks https://gis.stackexchange.com/a/133535\n",
    "    \n",
    "    #> n = 2 ^ zoom\n",
    "    n = 2 ** z\n",
    "    \n",
    "    #> lon_deg = xtile / n * 360.0 - 180.0\n",
    "    lon_deg = x / n * 360.0 - 180.0\n",
    "\n",
    "    print(\"LATLNG\")\n",
    "    \n",
    "    #> lat_rad = arctan(sinh(π * (1 - 2 * ytile / n)))\n",
    "    lat_rad = math.arctan(math.sinh(math.pi * (1.0 - 2.0 * y / n)))\n",
    "    \n",
    "    #> lat_deg = lat_rad * 180.0 / π\n",
    "    lat_deg = lat_rad * 180.0 / math.pi\n",
    "    \n",
    "    if return_google_maps_url:\n",
    "        return f\"\"\"https://www.google.com/maps/@{lat_deg},{lon_deg},15.79z?entry=ttu\"\"\"\n",
    "    \n",
    "    return lat_deg, lon_deg"
   ]
  },
  {
   "cell_type": "markdown",
   "metadata": {},
   "source": [
    "### Dataclasses"
   ]
  },
  {
   "cell_type": "code",
   "execution_count": null,
   "metadata": {},
   "outputs": [],
   "source": [
    "@auto.dataclasses.dataclass(eq=True, order=True, frozen=True)\n",
    "class Coord:\n",
    "    \"\"\"Tile image coordinates for mapbox/etc services\"\"\"\n",
    "    z: int\n",
    "    x: int\n",
    "    y: int\n",
    "\n",
    "    @property\n",
    "    def nw(self) -> Location:\n",
    "        \"\"\"North-West lat/lng of current tile\"\"\"\n",
    "        lat, lng = tile_coordinates_to_latlng(\n",
    "            z=self.z,\n",
    "            x=self.y,\n",
    "            y=self.x,\n",
    "            # z=self.z,\n",
    "            # x=self.x,\n",
    "            # y=self.y,\n",
    "        )\n",
    "        return Location(lat=lat, lng=lng)\n",
    "\n",
    "    @property\n",
    "    def se(self) -> Location:\n",
    "        \"\"\"South-East lat/lng of current tile\"\"\"\n",
    "        lat, lng = tile_coordinates_to_latlng(\n",
    "            z=self.z,\n",
    "            x=1+self.y,\n",
    "            y=1+self.x,\n",
    "            # z=self.z,\n",
    "            # x=1+self.x,\n",
    "            # y=1+self.y,\n",
    "        )\n",
    "        return Location(lat=lat, lng=lng)"
   ]
  },
  {
   "cell_type": "code",
   "execution_count": null,
   "metadata": {},
   "outputs": [],
   "source": [
    "@auto.dataclasses.dataclass(eq=True, frozen=True)\n",
    "class Domain:\n",
    "    \"\"\"Lower (inclusive) and upper (inclusive) bounds of latitude/longitude\"\"\"\n",
    "    lo: Coord\n",
    "    hi: Coord\n",
    "        \n",
    "    @property\n",
    "    def coords(self) -> List[Coord]:\n",
    "        \"\"\"All coordinates within lower/upper bounds\"\"\"\n",
    "        coords = []\n",
    "        for z, x, y in auto.itertools.product(\n",
    "            range(self.lo.z, 1+self.hi.z),\n",
    "            range(self.lo.x, 1+self.hi.x),\n",
    "            range(self.lo.y, 1+self.hi.y),\n",
    "        ):\n",
    "            coords.append(Coord(\n",
    "                z=z,\n",
    "                x=x,\n",
    "                y=y,\n",
    "            ))\n",
    "        \n",
    "        return coords"
   ]
  },
  {
   "cell_type": "code",
   "execution_count": null,
   "metadata": {},
   "outputs": [],
   "source": [
    "@auto.dataclasses.dataclass(eq=True, order=True, frozen=True)\n",
    "class Location:\n",
    "    \"\"\"Geographical latitude/longitude\"\"\"\n",
    "    lat: Degree\n",
    "    lng: Degree\n",
    "    alt: Optional[Meter] = auto.dataclasses.field(default=None)"
   ]
  },
  {
   "cell_type": "code",
   "execution_count": null,
   "metadata": {},
   "outputs": [],
   "source": [
    "@auto.dataclasses.dataclass(eq=True, order=True, frozen=True)\n",
    "class Point:\n",
    "    x: Kilometer\n",
    "    y: Kilometer\n",
    "    z: Kilometer"
   ]
  },
  {
   "cell_type": "code",
   "execution_count": null,
   "metadata": {},
   "outputs": [],
   "source": [
    "# @dispatch\n",
    "@auto.dataclasses.dataclass(eq=True, order=True, frozen=True)\n",
    "class Tixel:\n",
    "    y: int\n",
    "    x: int\n",
    "        \n",
    "    # z: ClassVar[int] = 23\n",
    "    z: ClassVar[int] = 21\n",
    "        \n",
    "    @property\n",
    "    def location(self) -> Location:\n",
    "        \"\"\"Center lat/lng of current tixel\"\"\"\n",
    "        lat, lng = tile_coordinates_to_latlng(\n",
    "            z=1+self.z,\n",
    "            x=1+self.x,\n",
    "            y=1+self.y,\n",
    "        )\n",
    "        return Location(lat=lat, lng=lng)\n",
    "\n",
    "# @Tixel.register\n",
    "# def __tixel_from_coord(coord: Coord, /, *, res: int):\n",
    "#     dz = int(auto.math.log2(Tixel.z - coord.z))\n",
    "    "
   ]
  }
 ],
 "metadata": {
  "language_info": {
   "name": "python"
  }
 },
 "nbformat": 4,
 "nbformat_minor": 2
}
