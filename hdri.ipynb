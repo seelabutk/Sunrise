{
 "cells": [
  {
   "cell_type": "code",
   "execution_count": null,
   "metadata": {},
   "outputs": [],
   "source": [
    "%pip install imageio\n",
    "%pip install opencv-python\n",
    "\n",
    "from __future__ import annotations\n",
    "try:\n",
    "    from mediocreatbest import auto, run\n",
    "except ImportError:\n",
    "    %pip install --quiet --upgrade pip\n",
    "    %pip install --upgrade --force-reinstall \\\n",
    "        mediocreatbest@git+https://gist.github.com/player1537/3457b026ed6ef6696d758517f55a58df.git\n",
    "    from mediocreatbest import auto, run\n",
    "\n",
    "import imageio\n",
    "import cv2\n",
    "import numpy as np"
   ]
  },
  {
   "cell_type": "code",
   "execution_count": null,
   "metadata": {},
   "outputs": [],
   "source": [
    "nebula = cv2.imread('data/nebula.hdr', cv2.IMREAD_ANYDEPTH)\n",
    "print(nebula.shape)\n",
    "print(type(nebula))\n",
    "nebula.tobytes\n",
    "# 'space/OSPTexture.texture2d.data.vec3f.bin'\n",
    "\n",
    "with open('data/space/OSPTexture.texture2d.data.vec2f.bin', 'wb') as f:\n",
    "    f.write(auto.struct.pack('I', len(nebula.shape)-1))\n",
    "    f.write(auto.struct.pack(f'{len(nebula.shape)-1}I', *nebula.shape[:-1]))\n",
    "    nebula.tofile(f)"
   ]
  },
  {
   "cell_type": "code",
   "execution_count": null,
   "metadata": {},
   "outputs": [],
   "source": []
  }
 ],
 "metadata": {
  "kernelspec": {
   "display_name": "Python 3",
   "language": "python",
   "name": "python3"
  },
  "language_info": {
   "codemirror_mode": {
    "name": "ipython",
    "version": 3
   },
   "file_extension": ".py",
   "mimetype": "text/x-python",
   "name": "python",
   "nbconvert_exporter": "python",
   "pygments_lexer": "ipython3",
   "version": "3.10.12"
  }
 },
 "nbformat": 4,
 "nbformat_minor": 2
}
